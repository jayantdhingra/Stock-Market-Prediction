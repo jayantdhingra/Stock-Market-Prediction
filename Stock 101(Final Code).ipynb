{
 "cells": [
  {
   "cell_type": "code",
   "execution_count": 1,
   "metadata": {},
   "outputs": [],
   "source": [
    "# Importing the libraries\n",
    "import numpy as np\n",
    "import matplotlib.pyplot as plt\n",
    "import pandas as pd\n",
    "import datetime"
   ]
  },
  {
   "cell_type": "code",
   "execution_count": 2,
   "metadata": {},
   "outputs": [],
   "source": [
    "dataset = pd.read_csv('SunPharma_3.csv',index_col=\"Date\",parse_dates=True)\n"
   ]
  },
  {
   "cell_type": "code",
   "execution_count": 3,
   "metadata": {},
   "outputs": [
    {
     "data": {
      "text/html": [
       "<div>\n",
       "<style scoped>\n",
       "    .dataframe tbody tr th:only-of-type {\n",
       "        vertical-align: middle;\n",
       "    }\n",
       "\n",
       "    .dataframe tbody tr th {\n",
       "        vertical-align: top;\n",
       "    }\n",
       "\n",
       "    .dataframe thead th {\n",
       "        text-align: right;\n",
       "    }\n",
       "</style>\n",
       "<table border=\"1\" class=\"dataframe\">\n",
       "  <thead>\n",
       "    <tr style=\"text-align: right;\">\n",
       "      <th></th>\n",
       "      <th>Open</th>\n",
       "      <th>High</th>\n",
       "      <th>Low</th>\n",
       "      <th>Close</th>\n",
       "      <th>Adj Close</th>\n",
       "      <th>Volume</th>\n",
       "    </tr>\n",
       "    <tr>\n",
       "      <th>Date</th>\n",
       "      <th></th>\n",
       "      <th></th>\n",
       "      <th></th>\n",
       "      <th></th>\n",
       "      <th></th>\n",
       "      <th></th>\n",
       "    </tr>\n",
       "  </thead>\n",
       "  <tbody>\n",
       "    <tr>\n",
       "      <th>2016-02-18</th>\n",
       "      <td>869.700012</td>\n",
       "      <td>876.500000</td>\n",
       "      <td>858.099976</td>\n",
       "      <td>870.450012</td>\n",
       "      <td>840.284668</td>\n",
       "      <td>2342525.0</td>\n",
       "    </tr>\n",
       "    <tr>\n",
       "      <th>2016-02-19</th>\n",
       "      <td>870.400024</td>\n",
       "      <td>870.400024</td>\n",
       "      <td>857.000000</td>\n",
       "      <td>864.200012</td>\n",
       "      <td>834.251343</td>\n",
       "      <td>1561649.0</td>\n",
       "    </tr>\n",
       "    <tr>\n",
       "      <th>2016-02-22</th>\n",
       "      <td>871.950012</td>\n",
       "      <td>885.799988</td>\n",
       "      <td>868.000000</td>\n",
       "      <td>882.450012</td>\n",
       "      <td>851.868835</td>\n",
       "      <td>2302969.0</td>\n",
       "    </tr>\n",
       "    <tr>\n",
       "      <th>2016-02-23</th>\n",
       "      <td>884.700012</td>\n",
       "      <td>898.450012</td>\n",
       "      <td>866.250000</td>\n",
       "      <td>871.099976</td>\n",
       "      <td>840.912170</td>\n",
       "      <td>2470030.0</td>\n",
       "    </tr>\n",
       "    <tr>\n",
       "      <th>2016-02-24</th>\n",
       "      <td>866.349976</td>\n",
       "      <td>870.000000</td>\n",
       "      <td>849.599976</td>\n",
       "      <td>854.549988</td>\n",
       "      <td>824.935608</td>\n",
       "      <td>1716644.0</td>\n",
       "    </tr>\n",
       "  </tbody>\n",
       "</table>\n",
       "</div>"
      ],
      "text/plain": [
       "                  Open        High         Low       Close   Adj Close  \\\n",
       "Date                                                                     \n",
       "2016-02-18  869.700012  876.500000  858.099976  870.450012  840.284668   \n",
       "2016-02-19  870.400024  870.400024  857.000000  864.200012  834.251343   \n",
       "2016-02-22  871.950012  885.799988  868.000000  882.450012  851.868835   \n",
       "2016-02-23  884.700012  898.450012  866.250000  871.099976  840.912170   \n",
       "2016-02-24  866.349976  870.000000  849.599976  854.549988  824.935608   \n",
       "\n",
       "               Volume  \n",
       "Date                   \n",
       "2016-02-18  2342525.0  \n",
       "2016-02-19  1561649.0  \n",
       "2016-02-22  2302969.0  \n",
       "2016-02-23  2470030.0  \n",
       "2016-02-24  1716644.0  "
      ]
     },
     "execution_count": 3,
     "metadata": {},
     "output_type": "execute_result"
    }
   ],
   "source": [
    "dataset.head()\n"
   ]
  },
  {
   "cell_type": "code",
   "execution_count": 4,
   "metadata": {},
   "outputs": [
    {
     "data": {
      "text/plain": [
       "Open         True\n",
       "High         True\n",
       "Low          True\n",
       "Close        True\n",
       "Adj Close    True\n",
       "Volume       True\n",
       "dtype: bool"
      ]
     },
     "execution_count": 4,
     "metadata": {},
     "output_type": "execute_result"
    }
   ],
   "source": [
    "dataset.isna().any()"
   ]
  },
  {
   "cell_type": "code",
   "execution_count": 5,
   "metadata": {},
   "outputs": [
    {
     "name": "stdout",
     "output_type": "stream",
     "text": [
      "<class 'pandas.core.frame.DataFrame'>\n",
      "DatetimeIndex: 1234 entries, 2016-02-18 to 2021-02-17\n",
      "Data columns (total 6 columns):\n",
      " #   Column     Non-Null Count  Dtype  \n",
      "---  ------     --------------  -----  \n",
      " 0   Open       1232 non-null   float64\n",
      " 1   High       1232 non-null   float64\n",
      " 2   Low        1232 non-null   float64\n",
      " 3   Close      1232 non-null   float64\n",
      " 4   Adj Close  1232 non-null   float64\n",
      " 5   Volume     1232 non-null   float64\n",
      "dtypes: float64(6)\n",
      "memory usage: 67.5 KB\n"
     ]
    }
   ],
   "source": [
    "dataset.info()"
   ]
  },
  {
   "cell_type": "code",
   "execution_count": 6,
   "metadata": {},
   "outputs": [
    {
     "data": {
      "text/html": [
       "<div>\n",
       "<style scoped>\n",
       "    .dataframe tbody tr th:only-of-type {\n",
       "        vertical-align: middle;\n",
       "    }\n",
       "\n",
       "    .dataframe tbody tr th {\n",
       "        vertical-align: top;\n",
       "    }\n",
       "\n",
       "    .dataframe thead th {\n",
       "        text-align: right;\n",
       "    }\n",
       "</style>\n",
       "<table border=\"1\" class=\"dataframe\">\n",
       "  <thead>\n",
       "    <tr style=\"text-align: right;\">\n",
       "      <th></th>\n",
       "      <th>Open</th>\n",
       "      <th>High</th>\n",
       "      <th>Low</th>\n",
       "      <th>Close</th>\n",
       "      <th>Volume</th>\n",
       "    </tr>\n",
       "    <tr>\n",
       "      <th>Date</th>\n",
       "      <th></th>\n",
       "      <th></th>\n",
       "      <th></th>\n",
       "      <th></th>\n",
       "      <th></th>\n",
       "    </tr>\n",
       "  </thead>\n",
       "  <tbody>\n",
       "    <tr>\n",
       "      <th>2016-02-18</th>\n",
       "      <td>869.700012</td>\n",
       "      <td>876.500000</td>\n",
       "      <td>858.099976</td>\n",
       "      <td>870.450012</td>\n",
       "      <td>2342525.0</td>\n",
       "    </tr>\n",
       "    <tr>\n",
       "      <th>2016-02-19</th>\n",
       "      <td>870.400024</td>\n",
       "      <td>870.400024</td>\n",
       "      <td>857.000000</td>\n",
       "      <td>864.200012</td>\n",
       "      <td>1561649.0</td>\n",
       "    </tr>\n",
       "    <tr>\n",
       "      <th>2016-02-22</th>\n",
       "      <td>871.950012</td>\n",
       "      <td>885.799988</td>\n",
       "      <td>868.000000</td>\n",
       "      <td>882.450012</td>\n",
       "      <td>2302969.0</td>\n",
       "    </tr>\n",
       "    <tr>\n",
       "      <th>2016-02-23</th>\n",
       "      <td>884.700012</td>\n",
       "      <td>898.450012</td>\n",
       "      <td>866.250000</td>\n",
       "      <td>871.099976</td>\n",
       "      <td>2470030.0</td>\n",
       "    </tr>\n",
       "    <tr>\n",
       "      <th>2016-02-24</th>\n",
       "      <td>866.349976</td>\n",
       "      <td>870.000000</td>\n",
       "      <td>849.599976</td>\n",
       "      <td>854.549988</td>\n",
       "      <td>1716644.0</td>\n",
       "    </tr>\n",
       "  </tbody>\n",
       "</table>\n",
       "</div>"
      ],
      "text/plain": [
       "                  Open        High         Low       Close     Volume\n",
       "Date                                                                 \n",
       "2016-02-18  869.700012  876.500000  858.099976  870.450012  2342525.0\n",
       "2016-02-19  870.400024  870.400024  857.000000  864.200012  1561649.0\n",
       "2016-02-22  871.950012  885.799988  868.000000  882.450012  2302969.0\n",
       "2016-02-23  884.700012  898.450012  866.250000  871.099976  2470030.0\n",
       "2016-02-24  866.349976  870.000000  849.599976  854.549988  1716644.0"
      ]
     },
     "execution_count": 6,
     "metadata": {},
     "output_type": "execute_result"
    }
   ],
   "source": [
    "dataset = dataset.drop(['Adj Close'], axis = 1)\n",
    "dataset.head()"
   ]
  },
  {
   "cell_type": "code",
   "execution_count": 7,
   "metadata": {},
   "outputs": [
    {
     "data": {
      "text/plain": [
       "Open      True\n",
       "High      True\n",
       "Low       True\n",
       "Close     True\n",
       "Volume    True\n",
       "dtype: bool"
      ]
     },
     "execution_count": 7,
     "metadata": {},
     "output_type": "execute_result"
    }
   ],
   "source": [
    "dataset.isna().any()"
   ]
  },
  {
   "cell_type": "code",
   "execution_count": 8,
   "metadata": {},
   "outputs": [],
   "source": [
    "dataset = dataset.dropna()"
   ]
  },
  {
   "cell_type": "code",
   "execution_count": 9,
   "metadata": {},
   "outputs": [
    {
     "data": {
      "text/plain": [
       "Open      False\n",
       "High      False\n",
       "Low       False\n",
       "Close     False\n",
       "Volume    False\n",
       "dtype: bool"
      ]
     },
     "execution_count": 9,
     "metadata": {},
     "output_type": "execute_result"
    }
   ],
   "source": [
    "dataset.isna().any()"
   ]
  },
  {
   "cell_type": "code",
   "execution_count": 10,
   "metadata": {},
   "outputs": [
    {
     "data": {
      "text/plain": [
       "<AxesSubplot:xlabel='Date'>"
      ]
     },
     "execution_count": 10,
     "metadata": {},
     "output_type": "execute_result"
    },
    {
     "data": {
      "image/png": "[encoded data removed]",
      "text/plain": [
       "<Figure size 1152x432 with 1 Axes>"
      ]
     },
     "metadata": {
      "needs_background": "light"
     },
     "output_type": "display_data"
    }
   ],
   "source": [
    "dataset['Open'].plot(figsize=(16,6))"
   ]
  },
  {
   "cell_type": "code",
   "execution_count": 11,
   "metadata": {},
   "outputs": [
    {
     "data": {
      "text/html": [
       "<div>\n",
       "<style scoped>\n",
       "    .dataframe tbody tr th:only-of-type {\n",
       "        vertical-align: middle;\n",
       "    }\n",
       "\n",
       "    .dataframe tbody tr th {\n",
       "        vertical-align: top;\n",
       "    }\n",
       "\n",
       "    .dataframe thead th {\n",
       "        text-align: right;\n",
       "    }\n",
       "</style>\n",
       "<table border=\"1\" class=\"dataframe\">\n",
       "  <thead>\n",
       "    <tr style=\"text-align: right;\">\n",
       "      <th></th>\n",
       "      <th>Open</th>\n",
       "      <th>High</th>\n",
       "      <th>Low</th>\n",
       "      <th>Close</th>\n",
       "      <th>Volume</th>\n",
       "    </tr>\n",
       "    <tr>\n",
       "      <th>Date</th>\n",
       "      <th></th>\n",
       "      <th></th>\n",
       "      <th></th>\n",
       "      <th></th>\n",
       "      <th></th>\n",
       "    </tr>\n",
       "  </thead>\n",
       "  <tbody>\n",
       "    <tr>\n",
       "      <th>2016-02-18</th>\n",
       "      <td>NaN</td>\n",
       "      <td>NaN</td>\n",
       "      <td>NaN</td>\n",
       "      <td>NaN</td>\n",
       "      <td>NaN</td>\n",
       "    </tr>\n",
       "    <tr>\n",
       "      <th>2016-02-19</th>\n",
       "      <td>NaN</td>\n",
       "      <td>NaN</td>\n",
       "      <td>NaN</td>\n",
       "      <td>NaN</td>\n",
       "      <td>NaN</td>\n",
       "    </tr>\n",
       "    <tr>\n",
       "      <th>2016-02-22</th>\n",
       "      <td>NaN</td>\n",
       "      <td>NaN</td>\n",
       "      <td>NaN</td>\n",
       "      <td>NaN</td>\n",
       "      <td>NaN</td>\n",
       "    </tr>\n",
       "    <tr>\n",
       "      <th>2016-02-23</th>\n",
       "      <td>NaN</td>\n",
       "      <td>NaN</td>\n",
       "      <td>NaN</td>\n",
       "      <td>NaN</td>\n",
       "      <td>NaN</td>\n",
       "    </tr>\n",
       "    <tr>\n",
       "      <th>2016-02-24</th>\n",
       "      <td>NaN</td>\n",
       "      <td>NaN</td>\n",
       "      <td>NaN</td>\n",
       "      <td>NaN</td>\n",
       "      <td>NaN</td>\n",
       "    </tr>\n",
       "    <tr>\n",
       "      <th>2016-02-25</th>\n",
       "      <td>NaN</td>\n",
       "      <td>NaN</td>\n",
       "      <td>NaN</td>\n",
       "      <td>NaN</td>\n",
       "      <td>NaN</td>\n",
       "    </tr>\n",
       "    <tr>\n",
       "      <th>2016-02-26</th>\n",
       "      <td>872.221435</td>\n",
       "      <td>881.592861</td>\n",
       "      <td>860.514274</td>\n",
       "      <td>870.000000</td>\n",
       "      <td>2.385905e+06</td>\n",
       "    </tr>\n",
       "    <tr>\n",
       "      <th>2016-02-29</th>\n",
       "      <td>873.807146</td>\n",
       "      <td>882.207145</td>\n",
       "      <td>857.028565</td>\n",
       "      <td>867.635716</td>\n",
       "      <td>2.557886e+06</td>\n",
       "    </tr>\n",
       "    <tr>\n",
       "      <th>2016-03-01</th>\n",
       "      <td>872.564287</td>\n",
       "      <td>882.578570</td>\n",
       "      <td>856.214277</td>\n",
       "      <td>868.235718</td>\n",
       "      <td>2.671084e+06</td>\n",
       "    </tr>\n",
       "    <tr>\n",
       "      <th>2016-03-02</th>\n",
       "      <td>873.142857</td>\n",
       "      <td>881.335711</td>\n",
       "      <td>853.642849</td>\n",
       "      <td>863.864284</td>\n",
       "      <td>2.797083e+06</td>\n",
       "    </tr>\n",
       "    <tr>\n",
       "      <th>2016-03-03</th>\n",
       "      <td>869.600002</td>\n",
       "      <td>877.821420</td>\n",
       "      <td>851.692845</td>\n",
       "      <td>863.835719</td>\n",
       "      <td>2.793813e+06</td>\n",
       "    </tr>\n",
       "    <tr>\n",
       "      <th>2016-03-04</th>\n",
       "      <td>870.407148</td>\n",
       "      <td>878.464277</td>\n",
       "      <td>852.121417</td>\n",
       "      <td>864.157148</td>\n",
       "      <td>2.766472e+06</td>\n",
       "    </tr>\n",
       "    <tr>\n",
       "      <th>2016-03-08</th>\n",
       "      <td>870.742859</td>\n",
       "      <td>877.178563</td>\n",
       "      <td>851.507133</td>\n",
       "      <td>861.764291</td>\n",
       "      <td>2.537773e+06</td>\n",
       "    </tr>\n",
       "    <tr>\n",
       "      <th>2016-03-09</th>\n",
       "      <td>867.171430</td>\n",
       "      <td>873.421422</td>\n",
       "      <td>846.907139</td>\n",
       "      <td>860.192862</td>\n",
       "      <td>2.642085e+06</td>\n",
       "    </tr>\n",
       "    <tr>\n",
       "      <th>2016-03-10</th>\n",
       "      <td>864.835719</td>\n",
       "      <td>871.592852</td>\n",
       "      <td>848.735709</td>\n",
       "      <td>861.785714</td>\n",
       "      <td>2.427208e+06</td>\n",
       "    </tr>\n",
       "    <tr>\n",
       "      <th>2016-03-11</th>\n",
       "      <td>863.864293</td>\n",
       "      <td>871.164281</td>\n",
       "      <td>847.635707</td>\n",
       "      <td>861.757141</td>\n",
       "      <td>2.423644e+06</td>\n",
       "    </tr>\n",
       "    <tr>\n",
       "      <th>2016-03-14</th>\n",
       "      <td>862.864293</td>\n",
       "      <td>871.085711</td>\n",
       "      <td>848.864275</td>\n",
       "      <td>863.235718</td>\n",
       "      <td>2.274295e+06</td>\n",
       "    </tr>\n",
       "    <tr>\n",
       "      <th>2016-03-15</th>\n",
       "      <td>863.092861</td>\n",
       "      <td>869.321429</td>\n",
       "      <td>847.149990</td>\n",
       "      <td>859.271432</td>\n",
       "      <td>2.261420e+06</td>\n",
       "    </tr>\n",
       "    <tr>\n",
       "      <th>2016-03-16</th>\n",
       "      <td>859.307146</td>\n",
       "      <td>865.457145</td>\n",
       "      <td>842.728568</td>\n",
       "      <td>856.264291</td>\n",
       "      <td>2.403792e+06</td>\n",
       "    </tr>\n",
       "    <tr>\n",
       "      <th>2016-03-17</th>\n",
       "      <td>856.764291</td>\n",
       "      <td>861.585719</td>\n",
       "      <td>838.521423</td>\n",
       "      <td>851.785723</td>\n",
       "      <td>2.447842e+06</td>\n",
       "    </tr>\n",
       "  </tbody>\n",
       "</table>\n",
       "</div>"
      ],
      "text/plain": [
       "                  Open        High         Low       Close        Volume\n",
       "Date                                                                    \n",
       "2016-02-18         NaN         NaN         NaN         NaN           NaN\n",
       "2016-02-19         NaN         NaN         NaN         NaN           NaN\n",
       "2016-02-22         NaN         NaN         NaN         NaN           NaN\n",
       "2016-02-23         NaN         NaN         NaN         NaN           NaN\n",
       "2016-02-24         NaN         NaN         NaN         NaN           NaN\n",
       "2016-02-25         NaN         NaN         NaN         NaN           NaN\n",
       "2016-02-26  872.221435  881.592861  860.514274  870.000000  2.385905e+06\n",
       "2016-02-29  873.807146  882.207145  857.028565  867.635716  2.557886e+06\n",
       "2016-03-01  872.564287  882.578570  856.214277  868.235718  2.671084e+06\n",
       "2016-03-02  873.142857  881.335711  853.642849  863.864284  2.797083e+06\n",
       "2016-03-03  869.600002  877.821420  851.692845  863.835719  2.793813e+06\n",
       "2016-03-04  870.407148  878.464277  852.121417  864.157148  2.766472e+06\n",
       "2016-03-08  870.742859  877.178563  851.507133  861.764291  2.537773e+06\n",
       "2016-03-09  867.171430  873.421422  846.907139  860.192862  2.642085e+06\n",
       "2016-03-10  864.835719  871.592852  848.735709  861.785714  2.427208e+06\n",
       "2016-03-11  863.864293  871.164281  847.635707  861.757141  2.423644e+06\n",
       "2016-03-14  862.864293  871.085711  848.864275  863.235718  2.274295e+06\n",
       "2016-03-15  863.092861  869.321429  847.149990  859.271432  2.261420e+06\n",
       "2016-03-16  859.307146  865.457145  842.728568  856.264291  2.403792e+06\n",
       "2016-03-17  856.764291  861.585719  838.521423  851.785723  2.447842e+06"
      ]
     },
     "execution_count": 11,
     "metadata": {},
     "output_type": "execute_result"
    }
   ],
   "source": [
    "# 7 day rolling mean\n",
    "dataset.rolling(7).mean().head(20)"
   ]
  },
  {
   "cell_type": "code",
   "execution_count": 12,
   "metadata": {},
   "outputs": [
    {
     "data": {
      "image/png": "[encoded data removed]",
      "text/plain": [
       "<Figure size 1152x432 with 1 Axes>"
      ]
     },
     "metadata": {
      "needs_background": "light"
     },
     "output_type": "display_data"
    }
   ],
   "source": [
    "dataset['Open'].plot(figsize=(16,6))\n",
    "dataset.rolling(window=30).mean()['Close'].plot()\n",
    "plt.grid()"
   ]
  },
  {
   "cell_type": "code",
   "execution_count": 13,
   "metadata": {},
   "outputs": [
    {
     "data": {
      "image/png": "[encoded data removed]",
      "text/plain": [
       "<Figure size 1152x432 with 1 Axes>"
      ]
     },
     "metadata": {
      "needs_background": "light"
     },
     "output_type": "display_data"
    }
   ],
   "source": [
    "dataset['Close: 30 Day Mean'] = dataset['Close'].rolling(window=30).mean()\n",
    "dataset[['Close','Close: 30 Day Mean']].plot(figsize=(16,6))\n",
    "plt.grid()"
   ]
  },
  {
   "cell_type": "code",
   "execution_count": 14,
   "metadata": {},
   "outputs": [
    {
     "data": {
      "text/plain": [
       "<AxesSubplot:xlabel='Date'>"
      ]
     },
     "execution_count": 14,
     "metadata": {},
     "output_type": "execute_result"
    },
    {
     "data": {
      "image/png": "[encoded data removed]",
      "text/plain": [
       "<Figure size 1152x432 with 1 Axes>"
      ]
     },
     "metadata": {
      "needs_background": "light"
     },
     "output_type": "display_data"
    }
   ],
   "source": [
    "# Optional specify a minimum number of periods\n",
    "dataset['Close'].expanding(min_periods=1).mean().plot(figsize=(16,6))\n"
   ]
  },
  {
   "cell_type": "code",
   "execution_count": 15,
   "metadata": {},
   "outputs": [],
   "source": [
    "training_set=dataset['Open']\n",
    "training_set=pd.DataFrame(training_set)\n"
   ]
  },
  {
   "cell_type": "code",
   "execution_count": 16,
   "metadata": {},
   "outputs": [],
   "source": [
    "from sklearn.preprocessing import MinMaxScaler"
   ]
  },
  {
   "cell_type": "code",
   "execution_count": 17,
   "metadata": {},
   "outputs": [],
   "source": [
    "# Feature Scaling\n",
    "\n",
    "sc = MinMaxScaler(feature_range = (0, 1))\n",
    "training_set_scaled = sc.fit_transform(training_set)"
   ]
  },
  {
   "cell_type": "code",
   "execution_count": 18,
   "metadata": {},
   "outputs": [],
   "source": [
    "# Creating a data structure with 60 timesteps and 1 output\n",
    "X_train = []\n",
    "y_train = []\n",
    "for i in range(60, 1145):\n",
    "    X_train.append(training_set_scaled[i-60:i, 0])\n",
    "    y_train.append(training_set_scaled[i, 0])\n",
    "X_train, y_train = np.array(X_train), np.array(y_train)\n",
    "\n",
    "# Reshaping\n",
    "X_train = np.reshape(X_train, (X_train.shape[0], X_train.shape[1], 1))"
   ]
  },
  {
   "cell_type": "code",
   "execution_count": 19,
   "metadata": {
    "scrolled": true
   },
   "outputs": [
    {
     "data": {
      "text/plain": [
       "array([[[0.97284106],\n",
       "        [0.97408365],\n",
       "        [0.97683503],\n",
       "        ...,\n",
       "        [0.85089199],\n",
       "        [0.84725306],\n",
       "        [0.84379161]],\n",
       "\n",
       "       [[0.97408365],\n",
       "        [0.97683503],\n",
       "        [0.99946749],\n",
       "        ...,\n",
       "        [0.84725306],\n",
       "        [0.84379161],\n",
       "        [0.84538923]],\n",
       "\n",
       "       [[0.97683503],\n",
       "        [0.99946749],\n",
       "        [0.96689443],\n",
       "        ...,\n",
       "        [0.84379161],\n",
       "        [0.84538923],\n",
       "        [0.83669122]],\n",
       "\n",
       "       ...,\n",
       "\n",
       "       [[0.30948789],\n",
       "        [0.31587825],\n",
       "        [0.31996094],\n",
       "        ...,\n",
       "        [0.36274075],\n",
       "        [0.34516727],\n",
       "        [0.34250462]],\n",
       "\n",
       "       [[0.31587825],\n",
       "        [0.31996094],\n",
       "        [0.29528713],\n",
       "        ...,\n",
       "        [0.34516727],\n",
       "        [0.34250462],\n",
       "        [0.36096566]],\n",
       "\n",
       "       [[0.31996094],\n",
       "        [0.29528713],\n",
       "        [0.28046507],\n",
       "        ...,\n",
       "        [0.34250462],\n",
       "        [0.36096566],\n",
       "        [0.34303724]]])"
      ]
     },
     "execution_count": 19,
     "metadata": {},
     "output_type": "execute_result"
    }
   ],
   "source": [
    "X_train"
   ]
  },
  {
   "cell_type": "code",
   "execution_count": 20,
   "metadata": {},
   "outputs": [
    {
     "data": {
      "text/plain": [
       "(1085, 60, 1)"
      ]
     },
     "execution_count": 20,
     "metadata": {},
     "output_type": "execute_result"
    }
   ],
   "source": [
    "X_train.shape"
   ]
  },
  {
   "cell_type": "code",
   "execution_count": 21,
   "metadata": {},
   "outputs": [
    {
     "data": {
      "text/plain": [
       "array([0.84538923, 0.83669122, 0.82426556, ..., 0.36096566, 0.34303724,\n",
       "       0.34143961])"
      ]
     },
     "execution_count": 21,
     "metadata": {},
     "output_type": "execute_result"
    }
   ],
   "source": [
    "y_train"
   ]
  },
  {
   "cell_type": "code",
   "execution_count": 22,
   "metadata": {},
   "outputs": [],
   "source": [
    "# Part 2 - Building the RNN\n",
    "\n",
    "# Importing the Keras libraries and packages\n",
    "from keras.models import Sequential\n",
    "from keras.layers import Dense\n",
    "from keras.layers import LSTM\n",
    "from keras.layers import Dropout\n",
    "\n"
   ]
  },
  {
   "cell_type": "code",
   "execution_count": 23,
   "metadata": {},
   "outputs": [],
   "source": [
    "# Initialising the RNN\n",
    "regressor = Sequential()\n",
    "\n"
   ]
  },
  {
   "cell_type": "code",
   "execution_count": 24,
   "metadata": {},
   "outputs": [],
   "source": [
    "# Adding the first LSTM layer and some Dropout regularisation\n",
    "regressor.add(LSTM(units = 50, return_sequences = True, input_shape = (X_train.shape[1], 1)))\n",
    "regressor.add(Dropout(0.2))\n",
    "\n",
    "# Adding a second LSTM layer and some Dropout regularisation\n",
    "regressor.add(LSTM(units = 50, return_sequences = True))\n",
    "regressor.add(Dropout(0.2))\n",
    "\n",
    "# Adding a third LSTM layer and some Dropout regularisation\n",
    "regressor.add(LSTM(units = 50, return_sequences = True))\n",
    "regressor.add(Dropout(0.2))\n",
    "\n",
    "# Adding a fourth LSTM layer and some Dropout regularisation\n",
    "regressor.add(LSTM(units = 50))\n",
    "regressor.add(Dropout(0.2))\n",
    "\n",
    "# Adding the output layer\n",
    "regressor.add(Dense(units = 1))\n",
    "\n"
   ]
  },
  {
   "cell_type": "code",
   "execution_count": 25,
   "metadata": {},
   "outputs": [
    {
     "data": {
      "text/plain": [
       "<tensorflow.python.keras.engine.sequential.Sequential at 0x7fc1a3c9bac0>"
      ]
     },
     "execution_count": 25,
     "metadata": {},
     "output_type": "execute_result"
    }
   ],
   "source": [
    "regressor"
   ]
  },
  {
   "cell_type": "code",
   "execution_count": 27,
   "metadata": {},
   "outputs": [
    {
     "name": "stdout",
     "output_type": "stream",
     "text": [
      "Epoch 1/100\n",
      "34/34 [==============================] - 3s 93ms/step - loss: 0.0080 - accuracy: 9.2166e-04\n",
      "Epoch 2/100\n",
      "34/34 [==============================] - 3s 91ms/step - loss: 0.0055 - accuracy: 9.2166e-04\n",
      "Epoch 3/100\n",
      "34/34 [==============================] - 3s 79ms/step - loss: 0.0047 - accuracy: 9.2166e-04\n",
      "Epoch 4/100\n",
      "34/34 [==============================] - 3s 79ms/step - loss: 0.0049 - accuracy: 9.2166e-04\n",
      "Epoch 5/100\n",
      "34/34 [==============================] - 3s 78ms/step - loss: 0.0048 - accuracy: 9.2166e-04\n",
      "Epoch 6/100\n",
      "34/34 [==============================] - 3s 77ms/step - loss: 0.0044 - accuracy: 9.2166e-04\n",
      "Epoch 7/100\n",
      "34/34 [==============================] - 3s 75ms/step - loss: 0.0043 - accuracy: 9.2166e-04\n",
      "Epoch 8/100\n",
      "34/34 [==============================] - 3s 75ms/step - loss: 0.0037 - accuracy: 9.2166e-04\n",
      "Epoch 9/100\n",
      "34/34 [==============================] - 3s 75ms/step - loss: 0.0033 - accuracy: 9.2166e-04\n",
      "Epoch 10/100\n",
      "34/34 [==============================] - 3s 75ms/step - loss: 0.0036 - accuracy: 9.2166e-04\n",
      "Epoch 11/100\n",
      "34/34 [==============================] - 3s 74ms/step - loss: 0.0033 - accuracy: 9.2166e-04\n",
      "Epoch 12/100\n",
      "34/34 [==============================] - 3s 75ms/step - loss: 0.0029 - accuracy: 9.2166e-04\n",
      "Epoch 13/100\n",
      "34/34 [==============================] - 3s 75ms/step - loss: 0.0030 - accuracy: 9.2166e-04\n",
      "Epoch 14/100\n",
      "34/34 [==============================] - 3s 75ms/step - loss: 0.0028 - accuracy: 9.2166e-04\n",
      "Epoch 15/100\n",
      "34/34 [==============================] - 3s 75ms/step - loss: 0.0027 - accuracy: 9.2166e-04\n",
      "Epoch 16/100\n",
      "34/34 [==============================] - 3s 75ms/step - loss: 0.0027 - accuracy: 9.2166e-04\n",
      "Epoch 17/100\n",
      "34/34 [==============================] - 3s 75ms/step - loss: 0.0028 - accuracy: 9.2166e-04\n",
      "Epoch 18/100\n",
      "34/34 [==============================] - 3s 75ms/step - loss: 0.0028 - accuracy: 9.2166e-04\n",
      "Epoch 19/100\n",
      "34/34 [==============================] - 3s 75ms/step - loss: 0.0027 - accuracy: 9.2166e-04\n",
      "Epoch 20/100\n",
      "34/34 [==============================] - 3s 74ms/step - loss: 0.0028 - accuracy: 9.2166e-04\n",
      "Epoch 21/100\n",
      "34/34 [==============================] - 3s 74ms/step - loss: 0.0027 - accuracy: 9.2166e-04\n",
      "Epoch 22/100\n",
      "34/34 [==============================] - 3s 74ms/step - loss: 0.0023 - accuracy: 9.2166e-04\n",
      "Epoch 23/100\n",
      "34/34 [==============================] - 3s 74ms/step - loss: 0.0025 - accuracy: 9.2166e-04\n",
      "Epoch 24/100\n",
      "34/34 [==============================] - 2s 73ms/step - loss: 0.0023 - accuracy: 9.2166e-04\n",
      "Epoch 25/100\n",
      "34/34 [==============================] - 2s 73ms/step - loss: 0.0022 - accuracy: 9.2166e-04\n",
      "Epoch 26/100\n",
      "34/34 [==============================] - 2s 73ms/step - loss: 0.0024 - accuracy: 9.2166e-04\n",
      "Epoch 27/100\n",
      "34/34 [==============================] - 3s 74ms/step - loss: 0.0022 - accuracy: 9.2166e-04\n",
      "Epoch 28/100\n",
      "34/34 [==============================] - 3s 74ms/step - loss: 0.0023 - accuracy: 9.2166e-04\n",
      "Epoch 29/100\n",
      "34/34 [==============================] - 3s 76ms/step - loss: 0.0021 - accuracy: 9.2166e-04\n",
      "Epoch 30/100\n",
      "34/34 [==============================] - 3s 75ms/step - loss: 0.0023 - accuracy: 9.2166e-04\n",
      "Epoch 31/100\n",
      "34/34 [==============================] - 3s 74ms/step - loss: 0.0023 - accuracy: 9.2166e-04\n",
      "Epoch 32/100\n",
      "34/34 [==============================] - 2s 74ms/step - loss: 0.0021 - accuracy: 9.2166e-04\n",
      "Epoch 33/100\n",
      "34/34 [==============================] - 3s 74ms/step - loss: 0.0021 - accuracy: 9.2166e-04\n",
      "Epoch 34/100\n",
      "34/34 [==============================] - 3s 74ms/step - loss: 0.0019 - accuracy: 9.2166e-04\n",
      "Epoch 35/100\n",
      "34/34 [==============================] - 3s 74ms/step - loss: 0.0019 - accuracy: 9.2166e-04\n",
      "Epoch 36/100\n",
      "34/34 [==============================] - 3s 74ms/step - loss: 0.0019 - accuracy: 9.2166e-04\n",
      "Epoch 37/100\n",
      "34/34 [==============================] - 3s 74ms/step - loss: 0.0021 - accuracy: 9.2166e-04\n",
      "Epoch 38/100\n",
      "34/34 [==============================] - 3s 74ms/step - loss: 0.0020 - accuracy: 9.2166e-04\n",
      "Epoch 39/100\n",
      "34/34 [==============================] - 3s 76ms/step - loss: 0.0020 - accuracy: 9.2166e-04\n",
      "Epoch 40/100\n",
      "34/34 [==============================] - 3s 98ms/step - loss: 0.0018 - accuracy: 9.2166e-04\n",
      "Epoch 41/100\n",
      "34/34 [==============================] - 3s 82ms/step - loss: 0.0018 - accuracy: 9.2166e-04\n",
      "Epoch 42/100\n",
      "34/34 [==============================] - 3s 77ms/step - loss: 0.0016 - accuracy: 9.2166e-04\n",
      "Epoch 43/100\n",
      "34/34 [==============================] - 3s 76ms/step - loss: 0.0016 - accuracy: 9.2166e-04\n",
      "Epoch 44/100\n",
      "34/34 [==============================] - 3s 77ms/step - loss: 0.0016 - accuracy: 9.2166e-04\n",
      "Epoch 45/100\n",
      "34/34 [==============================] - 3s 76ms/step - loss: 0.0017 - accuracy: 9.2166e-04\n",
      "Epoch 46/100\n",
      "34/34 [==============================] - 3s 76ms/step - loss: 0.0019 - accuracy: 9.2166e-04\n",
      "Epoch 47/100\n",
      "34/34 [==============================] - 3s 80ms/step - loss: 0.0018 - accuracy: 9.2166e-04\n",
      "Epoch 48/100\n",
      "34/34 [==============================] - 3s 79ms/step - loss: 0.0015 - accuracy: 9.2166e-04\n",
      "Epoch 49/100\n",
      "34/34 [==============================] - 3s 101ms/step - loss: 0.0018 - accuracy: 9.2166e-04\n",
      "Epoch 50/100\n",
      "34/34 [==============================] - 3s 89ms/step - loss: 0.0015 - accuracy: 9.2166e-04\n",
      "Epoch 51/100\n",
      "34/34 [==============================] - 3s 90ms/step - loss: 0.0015 - accuracy: 9.2166e-04\n",
      "Epoch 52/100\n",
      "34/34 [==============================] - 3s 101ms/step - loss: 0.0015 - accuracy: 9.2166e-04\n",
      "Epoch 53/100\n",
      "34/34 [==============================] - 4s 105ms/step - loss: 0.0014 - accuracy: 9.2166e-04\n",
      "Epoch 54/100\n",
      "34/34 [==============================] - 3s 97ms/step - loss: 0.0014 - accuracy: 9.2166e-04\n",
      "Epoch 55/100\n",
      "34/34 [==============================] - 4s 125ms/step - loss: 0.0015 - accuracy: 9.2166e-04\n",
      "Epoch 56/100\n",
      "34/34 [==============================] - 3s 86ms/step - loss: 0.0016 - accuracy: 9.2166e-04\n",
      "Epoch 57/100\n",
      "34/34 [==============================] - 3s 93ms/step - loss: 0.0014 - accuracy: 9.2166e-04\n",
      "Epoch 58/100\n",
      "34/34 [==============================] - 3s 83ms/step - loss: 0.0014 - accuracy: 9.2166e-04\n",
      "Epoch 59/100\n",
      "34/34 [==============================] - 3s 87ms/step - loss: 0.0016 - accuracy: 9.2166e-04\n",
      "Epoch 60/100\n",
      "34/34 [==============================] - 3s 98ms/step - loss: 0.0013 - accuracy: 9.2166e-04\n",
      "Epoch 61/100\n",
      "34/34 [==============================] - 4s 117ms/step - loss: 0.0014 - accuracy: 9.2166e-04\n",
      "Epoch 62/100\n",
      "34/34 [==============================] - 4s 105ms/step - loss: 0.0014 - accuracy: 9.2166e-04\n",
      "Epoch 63/100\n",
      "34/34 [==============================] - 3s 93ms/step - loss: 0.0014 - accuracy: 9.2166e-04\n",
      "Epoch 64/100\n",
      "34/34 [==============================] - 4s 113ms/step - loss: 0.0013 - accuracy: 9.2166e-04\n",
      "Epoch 65/100\n",
      "34/34 [==============================] - 3s 92ms/step - loss: 0.0013 - accuracy: 9.2166e-04\n",
      "Epoch 66/100\n",
      "34/34 [==============================] - 3s 97ms/step - loss: 0.0013 - accuracy: 9.2166e-04\n",
      "Epoch 67/100\n",
      "34/34 [==============================] - 3s 86ms/step - loss: 0.0014 - accuracy: 9.2166e-04\n",
      "Epoch 68/100\n",
      "34/34 [==============================] - 3s 90ms/step - loss: 0.0014 - accuracy: 9.2166e-04\n",
      "Epoch 69/100\n",
      "34/34 [==============================] - 4s 108ms/step - loss: 0.0014 - accuracy: 9.2166e-04\n",
      "Epoch 70/100\n",
      "34/34 [==============================] - 2s 73ms/step - loss: 0.0013 - accuracy: 9.2166e-04\n",
      "Epoch 71/100\n",
      "34/34 [==============================] - 3s 87ms/step - loss: 0.0014 - accuracy: 9.2166e-04\n",
      "Epoch 72/100\n",
      "34/34 [==============================] - 3s 90ms/step - loss: 0.0013 - accuracy: 9.2166e-04\n",
      "Epoch 73/100\n",
      "34/34 [==============================] - 4s 107ms/step - loss: 0.0012 - accuracy: 9.2166e-04\n",
      "Epoch 74/100\n",
      "34/34 [==============================] - 3s 101ms/step - loss: 0.0011 - accuracy: 9.2166e-04\n",
      "Epoch 75/100\n",
      "34/34 [==============================] - 3s 101ms/step - loss: 0.0011 - accuracy: 9.2166e-04\n",
      "Epoch 76/100\n",
      "34/34 [==============================] - 3s 77ms/step - loss: 0.0012 - accuracy: 9.2166e-04\n",
      "Epoch 77/100\n",
      "34/34 [==============================] - 3s 76ms/step - loss: 0.0012 - accuracy: 9.2166e-04\n",
      "Epoch 78/100\n",
      "34/34 [==============================] - 3s 74ms/step - loss: 0.0012 - accuracy: 9.2166e-04\n",
      "Epoch 79/100\n",
      "34/34 [==============================] - 2s 71ms/step - loss: 0.0012 - accuracy: 9.2166e-04\n",
      "Epoch 80/100\n",
      "34/34 [==============================] - 2s 71ms/step - loss: 0.0012 - accuracy: 9.2166e-04\n",
      "Epoch 81/100\n",
      "34/34 [==============================] - 3s 74ms/step - loss: 9.9894e-04 - accuracy: 9.2166e-04\n",
      "Epoch 82/100\n",
      "34/34 [==============================] - 3s 83ms/step - loss: 0.0011 - accuracy: 9.2166e-04\n",
      "Epoch 83/100\n",
      "34/34 [==============================] - 2s 73ms/step - loss: 0.0012 - accuracy: 9.2166e-04\n",
      "Epoch 84/100\n",
      "34/34 [==============================] - 3s 81ms/step - loss: 0.0012 - accuracy: 9.2166e-04\n",
      "Epoch 85/100\n",
      "34/34 [==============================] - 3s 87ms/step - loss: 0.0012 - accuracy: 9.2166e-04\n",
      "Epoch 86/100\n",
      "34/34 [==============================] - 3s 96ms/step - loss: 0.0013 - accuracy: 9.2166e-04\n",
      "Epoch 87/100\n",
      "34/34 [==============================] - 3s 92ms/step - loss: 0.0011 - accuracy: 9.2166e-04\n",
      "Epoch 88/100\n",
      "34/34 [==============================] - 3s 95ms/step - loss: 0.0011 - accuracy: 9.2166e-04\n",
      "Epoch 89/100\n",
      "34/34 [==============================] - 3s 84ms/step - loss: 0.0011 - accuracy: 9.2166e-04\n",
      "Epoch 90/100\n",
      "34/34 [==============================] - 3s 84ms/step - loss: 0.0011 - accuracy: 9.2166e-04\n",
      "Epoch 91/100\n",
      "34/34 [==============================] - 3s 87ms/step - loss: 0.0011 - accuracy: 9.2166e-04\n",
      "Epoch 92/100\n",
      "34/34 [==============================] - 3s 98ms/step - loss: 0.0011 - accuracy: 9.2166e-04\n",
      "Epoch 93/100\n",
      "34/34 [==============================] - 3s 87ms/step - loss: 0.0011 - accuracy: 9.2166e-04\n",
      "Epoch 94/100\n",
      "34/34 [==============================] - 3s 84ms/step - loss: 0.0011 - accuracy: 9.2166e-04\n",
      "Epoch 95/100\n",
      "34/34 [==============================] - 3s 91ms/step - loss: 0.0012 - accuracy: 9.2166e-04\n",
      "Epoch 96/100\n",
      "34/34 [==============================] - 3s 86ms/step - loss: 0.0012 - accuracy: 9.2166e-04\n",
      "Epoch 97/100\n",
      "34/34 [==============================] - 3s 77ms/step - loss: 0.0012 - accuracy: 9.2166e-04\n",
      "Epoch 98/100\n",
      "34/34 [==============================] - 3s 92ms/step - loss: 0.0012 - accuracy: 9.2166e-04\n",
      "Epoch 99/100\n",
      "34/34 [==============================] - 3s 93ms/step - loss: 0.0011 - accuracy: 9.2166e-04\n",
      "Epoch 100/100\n",
      "34/34 [==============================] - 3s 101ms/step - loss: 9.8057e-04 - accuracy: 9.2166e-04\n"
     ]
    },
    {
     "data": {
      "text/plain": [
       "<tensorflow.python.keras.callbacks.History at 0x7fc19084df10>"
      ]
     },
     "execution_count": 27,
     "metadata": {},
     "output_type": "execute_result"
    }
   ],
   "source": [
    "# Compiling the RNN\n",
    "regressor.compile(optimizer = 'adam', loss = 'mean_squared_error', metrics = \"accuracy\")\n",
    "\n",
    "# Fitting the RNN to the Training set\n",
    "regressor.fit(X_train, y_train, epochs = 100, batch_size = 32)\n"
   ]
  },
  {
   "cell_type": "code",
   "execution_count": 45,
   "metadata": {},
   "outputs": [],
   "source": [
    "# Part 3 - Making the predictions and visualising the results\n",
    "\n",
    "# Getting the real stock price of 2017\n",
    "dataset_test = pd.read_csv('SunPharma_3.csv',index_col=\"Date\",parse_dates=True)\n",
    "\n"
   ]
  },
  {
   "cell_type": "code",
   "execution_count": 46,
   "metadata": {},
   "outputs": [],
   "source": [
    "real_stock_price = dataset_test.iloc[:21, 1:2].values"
   ]
  },
  {
   "cell_type": "code",
   "execution_count": 47,
   "metadata": {},
   "outputs": [
    {
     "data": {
      "text/plain": [
       "array([[876.5     ],\n",
       "       [870.400024],\n",
       "       [885.799988],\n",
       "       [898.450012],\n",
       "       [870.      ],\n",
       "       [880.      ],\n",
       "       [890.      ],\n",
       "       [880.799988],\n",
       "       [873.      ],\n",
       "       [877.099976],\n",
       "       [873.849976],\n",
       "       [874.5     ],\n",
       "       [871.      ],\n",
       "       [863.700012],\n",
       "       [868.      ],\n",
       "       [870.      ],\n",
       "       [876.549988],\n",
       "       [861.5     ],\n",
       "       [847.450012],\n",
       "       [843.900024],\n",
       "       [825.900024]])"
      ]
     },
     "execution_count": 47,
     "metadata": {},
     "output_type": "execute_result"
    }
   ],
   "source": [
    "real_stock_price"
   ]
  },
  {
   "cell_type": "code",
   "execution_count": 48,
   "metadata": {},
   "outputs": [
    {
     "name": "stdout",
     "output_type": "stream",
     "text": [
      "<class 'pandas.core.frame.DataFrame'>\n",
      "RangeIndex: 21 entries, 0 to 20\n",
      "Data columns (total 1 columns):\n",
      " #   Column  Non-Null Count  Dtype  \n",
      "---  ------  --------------  -----  \n",
      " 0   0       21 non-null     float64\n",
      "dtypes: float64(1)\n",
      "memory usage: 296.0 bytes\n"
     ]
    }
   ],
   "source": [
    "real_stock_price = pd.DataFrame(real_stock_price)\n",
    "real_stock_price.info()"
   ]
  },
  {
   "cell_type": "code",
   "execution_count": 49,
   "metadata": {},
   "outputs": [
    {
     "data": {
      "text/html": [
       "<div>\n",
       "<style scoped>\n",
       "    .dataframe tbody tr th:only-of-type {\n",
       "        vertical-align: middle;\n",
       "    }\n",
       "\n",
       "    .dataframe tbody tr th {\n",
       "        vertical-align: top;\n",
       "    }\n",
       "\n",
       "    .dataframe thead th {\n",
       "        text-align: right;\n",
       "    }\n",
       "</style>\n",
       "<table border=\"1\" class=\"dataframe\">\n",
       "  <thead>\n",
       "    <tr style=\"text-align: right;\">\n",
       "      <th></th>\n",
       "      <th>Open</th>\n",
       "      <th>High</th>\n",
       "      <th>Low</th>\n",
       "      <th>Close</th>\n",
       "      <th>Adj Close</th>\n",
       "      <th>Volume</th>\n",
       "    </tr>\n",
       "    <tr>\n",
       "      <th>Date</th>\n",
       "      <th></th>\n",
       "      <th></th>\n",
       "      <th></th>\n",
       "      <th></th>\n",
       "      <th></th>\n",
       "      <th></th>\n",
       "    </tr>\n",
       "  </thead>\n",
       "  <tbody>\n",
       "    <tr>\n",
       "      <th>2016-02-18</th>\n",
       "      <td>869.700012</td>\n",
       "      <td>876.500000</td>\n",
       "      <td>858.099976</td>\n",
       "      <td>870.450012</td>\n",
       "      <td>840.284668</td>\n",
       "      <td>2342525.0</td>\n",
       "    </tr>\n",
       "    <tr>\n",
       "      <th>2016-02-19</th>\n",
       "      <td>870.400024</td>\n",
       "      <td>870.400024</td>\n",
       "      <td>857.000000</td>\n",
       "      <td>864.200012</td>\n",
       "      <td>834.251343</td>\n",
       "      <td>1561649.0</td>\n",
       "    </tr>\n",
       "    <tr>\n",
       "      <th>2016-02-22</th>\n",
       "      <td>871.950012</td>\n",
       "      <td>885.799988</td>\n",
       "      <td>868.000000</td>\n",
       "      <td>882.450012</td>\n",
       "      <td>851.868835</td>\n",
       "      <td>2302969.0</td>\n",
       "    </tr>\n",
       "    <tr>\n",
       "      <th>2016-02-23</th>\n",
       "      <td>884.700012</td>\n",
       "      <td>898.450012</td>\n",
       "      <td>866.250000</td>\n",
       "      <td>871.099976</td>\n",
       "      <td>840.912170</td>\n",
       "      <td>2470030.0</td>\n",
       "    </tr>\n",
       "    <tr>\n",
       "      <th>2016-02-24</th>\n",
       "      <td>866.349976</td>\n",
       "      <td>870.000000</td>\n",
       "      <td>849.599976</td>\n",
       "      <td>854.549988</td>\n",
       "      <td>824.935608</td>\n",
       "      <td>1716644.0</td>\n",
       "    </tr>\n",
       "  </tbody>\n",
       "</table>\n",
       "</div>"
      ],
      "text/plain": [
       "                  Open        High         Low       Close   Adj Close  \\\n",
       "Date                                                                     \n",
       "2016-02-18  869.700012  876.500000  858.099976  870.450012  840.284668   \n",
       "2016-02-19  870.400024  870.400024  857.000000  864.200012  834.251343   \n",
       "2016-02-22  871.950012  885.799988  868.000000  882.450012  851.868835   \n",
       "2016-02-23  884.700012  898.450012  866.250000  871.099976  840.912170   \n",
       "2016-02-24  866.349976  870.000000  849.599976  854.549988  824.935608   \n",
       "\n",
       "               Volume  \n",
       "Date                   \n",
       "2016-02-18  2342525.0  \n",
       "2016-02-19  1561649.0  \n",
       "2016-02-22  2302969.0  \n",
       "2016-02-23  2470030.0  \n",
       "2016-02-24  1716644.0  "
      ]
     },
     "execution_count": 49,
     "metadata": {},
     "output_type": "execute_result"
    }
   ],
   "source": [
    "dataset_test.head()"
   ]
  },
  {
   "cell_type": "code",
   "execution_count": 50,
   "metadata": {},
   "outputs": [
    {
     "name": "stdout",
     "output_type": "stream",
     "text": [
      "<class 'pandas.core.frame.DataFrame'>\n",
      "DatetimeIndex: 1234 entries, 2016-02-18 to 2021-02-17\n",
      "Data columns (total 6 columns):\n",
      " #   Column     Non-Null Count  Dtype  \n",
      "---  ------     --------------  -----  \n",
      " 0   Open       1232 non-null   float64\n",
      " 1   High       1232 non-null   float64\n",
      " 2   Low        1232 non-null   float64\n",
      " 3   Close      1232 non-null   float64\n",
      " 4   Adj Close  1232 non-null   float64\n",
      " 5   Volume     1232 non-null   float64\n",
      "dtypes: float64(6)\n",
      "memory usage: 67.5 KB\n"
     ]
    }
   ],
   "source": [
    "dataset_test.info()"
   ]
  },
  {
   "cell_type": "code",
   "execution_count": 51,
   "metadata": {},
   "outputs": [],
   "source": [
    "test_set=dataset_test['Open']\n",
    "test_set=pd.DataFrame(test_set)"
   ]
  },
  {
   "cell_type": "code",
   "execution_count": 52,
   "metadata": {},
   "outputs": [
    {
     "name": "stdout",
     "output_type": "stream",
     "text": [
      "<class 'pandas.core.frame.DataFrame'>\n",
      "DatetimeIndex: 1234 entries, 2016-02-18 to 2021-02-17\n",
      "Data columns (total 1 columns):\n",
      " #   Column  Non-Null Count  Dtype  \n",
      "---  ------  --------------  -----  \n",
      " 0   Open    1232 non-null   float64\n",
      "dtypes: float64(1)\n",
      "memory usage: 19.3 KB\n"
     ]
    }
   ],
   "source": [
    "test_set.info()"
   ]
  },
  {
   "cell_type": "code",
   "execution_count": 53,
   "metadata": {},
   "outputs": [],
   "source": [
    "# Getting the predicted stock price of 2016\n",
    "dataset_total = pd.concat((dataset['Open'], dataset_test['Open']), axis = 0)\n",
    "inputs = dataset_total[len(dataset_total) - len(dataset_test) - 60:].values\n",
    "inputs = inputs.reshape(-1,1)\n",
    "inputs = sc.transform(inputs)\n",
    "X_test = []\n",
    "for i in range(60, 80):\n",
    "    X_test.append(inputs[i-60:i, 0])\n",
    "X_test = np.array(X_test)\n",
    "X_test = np.reshape(X_test, (X_test.shape[0], X_test.shape[1], 1))\n",
    "predicted_stock_price = regressor.predict(X_test)\n",
    "predicted_stock_price = sc.inverse_transform(predicted_stock_price)"
   ]
  },
  {
   "cell_type": "code",
   "execution_count": 54,
   "metadata": {},
   "outputs": [
    {
     "data": {
      "text/plain": [
       "array([[628.50305],\n",
       "       [761.51514],\n",
       "       [834.40656],\n",
       "       [845.5882 ],\n",
       "       [847.6468 ],\n",
       "       [839.22534],\n",
       "       [834.11847],\n",
       "       [852.82916],\n",
       "       [861.23676],\n",
       "       [852.3058 ],\n",
       "       [856.2797 ],\n",
       "       [850.2781 ],\n",
       "       [854.42816],\n",
       "       [850.0096 ],\n",
       "       [847.7431 ],\n",
       "       [850.06647],\n",
       "       [845.9337 ],\n",
       "       [852.1261 ],\n",
       "       [851.07513],\n",
       "       [840.7576 ]], dtype=float32)"
      ]
     },
     "execution_count": 54,
     "metadata": {},
     "output_type": "execute_result"
    }
   ],
   "source": [
    "predicted_stock_price"
   ]
  },
  {
   "cell_type": "code",
   "execution_count": 55,
   "metadata": {},
   "outputs": [
    {
     "name": "stdout",
     "output_type": "stream",
     "text": [
      "<class 'pandas.core.frame.DataFrame'>\n",
      "RangeIndex: 20 entries, 0 to 19\n",
      "Data columns (total 1 columns):\n",
      " #   Column  Non-Null Count  Dtype  \n",
      "---  ------  --------------  -----  \n",
      " 0   0       20 non-null     float32\n",
      "dtypes: float32(1)\n",
      "memory usage: 208.0 bytes\n"
     ]
    }
   ],
   "source": [
    "predicted_stock_price = pd.DataFrame(predicted_stock_price)\n",
    "predicted_stock_price.info()"
   ]
  },
  {
   "cell_type": "code",
   "execution_count": 56,
   "metadata": {
    "scrolled": true
   },
   "outputs": [],
   "source": [
    "A = predicted_stock_price.values.tolist()\n",
    "\n"
   ]
  },
  {
   "cell_type": "code",
   "execution_count": 57,
   "metadata": {},
   "outputs": [
    {
     "name": "stdout",
     "output_type": "stream",
     "text": [
      "<class 'pandas.core.frame.DataFrame'>\n",
      "RangeIndex: 21 entries, 0 to 20\n",
      "Data columns (total 1 columns):\n",
      " #   Column  Non-Null Count  Dtype  \n",
      "---  ------  --------------  -----  \n",
      " 0   0       21 non-null     float64\n",
      "dtypes: float64(1)\n",
      "memory usage: 296.0 bytes\n"
     ]
    }
   ],
   "source": [
    "real_stock_price = pd.DataFrame(real_stock_price)\n",
    "real_stock_price.info()"
   ]
  },
  {
   "cell_type": "code",
   "execution_count": 58,
   "metadata": {},
   "outputs": [
    {
     "data": {
      "text/html": [
       "<div>\n",
       "<style scoped>\n",
       "    .dataframe tbody tr th:only-of-type {\n",
       "        vertical-align: middle;\n",
       "    }\n",
       "\n",
       "    .dataframe tbody tr th {\n",
       "        vertical-align: top;\n",
       "    }\n",
       "\n",
       "    .dataframe thead th {\n",
       "        text-align: right;\n",
       "    }\n",
       "</style>\n",
       "<table border=\"1\" class=\"dataframe\">\n",
       "  <thead>\n",
       "    <tr style=\"text-align: right;\">\n",
       "      <th></th>\n",
       "      <th>0</th>\n",
       "    </tr>\n",
       "  </thead>\n",
       "  <tbody>\n",
       "    <tr>\n",
       "      <th>0</th>\n",
       "      <td>876.500000</td>\n",
       "    </tr>\n",
       "    <tr>\n",
       "      <th>1</th>\n",
       "      <td>870.400024</td>\n",
       "    </tr>\n",
       "    <tr>\n",
       "      <th>2</th>\n",
       "      <td>885.799988</td>\n",
       "    </tr>\n",
       "    <tr>\n",
       "      <th>3</th>\n",
       "      <td>898.450012</td>\n",
       "    </tr>\n",
       "    <tr>\n",
       "      <th>4</th>\n",
       "      <td>870.000000</td>\n",
       "    </tr>\n",
       "    <tr>\n",
       "      <th>5</th>\n",
       "      <td>880.000000</td>\n",
       "    </tr>\n",
       "    <tr>\n",
       "      <th>6</th>\n",
       "      <td>890.000000</td>\n",
       "    </tr>\n",
       "    <tr>\n",
       "      <th>7</th>\n",
       "      <td>880.799988</td>\n",
       "    </tr>\n",
       "    <tr>\n",
       "      <th>8</th>\n",
       "      <td>873.000000</td>\n",
       "    </tr>\n",
       "    <tr>\n",
       "      <th>9</th>\n",
       "      <td>877.099976</td>\n",
       "    </tr>\n",
       "    <tr>\n",
       "      <th>10</th>\n",
       "      <td>873.849976</td>\n",
       "    </tr>\n",
       "    <tr>\n",
       "      <th>11</th>\n",
       "      <td>874.500000</td>\n",
       "    </tr>\n",
       "    <tr>\n",
       "      <th>12</th>\n",
       "      <td>871.000000</td>\n",
       "    </tr>\n",
       "    <tr>\n",
       "      <th>13</th>\n",
       "      <td>863.700012</td>\n",
       "    </tr>\n",
       "    <tr>\n",
       "      <th>14</th>\n",
       "      <td>868.000000</td>\n",
       "    </tr>\n",
       "    <tr>\n",
       "      <th>15</th>\n",
       "      <td>870.000000</td>\n",
       "    </tr>\n",
       "    <tr>\n",
       "      <th>16</th>\n",
       "      <td>876.549988</td>\n",
       "    </tr>\n",
       "    <tr>\n",
       "      <th>17</th>\n",
       "      <td>861.500000</td>\n",
       "    </tr>\n",
       "    <tr>\n",
       "      <th>18</th>\n",
       "      <td>847.450012</td>\n",
       "    </tr>\n",
       "    <tr>\n",
       "      <th>19</th>\n",
       "      <td>843.900024</td>\n",
       "    </tr>\n",
       "    <tr>\n",
       "      <th>20</th>\n",
       "      <td>825.900024</td>\n",
       "    </tr>\n",
       "  </tbody>\n",
       "</table>\n",
       "</div>"
      ],
      "text/plain": [
       "             0\n",
       "0   876.500000\n",
       "1   870.400024\n",
       "2   885.799988\n",
       "3   898.450012\n",
       "4   870.000000\n",
       "5   880.000000\n",
       "6   890.000000\n",
       "7   880.799988\n",
       "8   873.000000\n",
       "9   877.099976\n",
       "10  873.849976\n",
       "11  874.500000\n",
       "12  871.000000\n",
       "13  863.700012\n",
       "14  868.000000\n",
       "15  870.000000\n",
       "16  876.549988\n",
       "17  861.500000\n",
       "18  847.450012\n",
       "19  843.900024\n",
       "20  825.900024"
      ]
     },
     "execution_count": 58,
     "metadata": {},
     "output_type": "execute_result"
    }
   ],
   "source": [
    "real_stock_price"
   ]
  },
  {
   "cell_type": "code",
   "execution_count": 59,
   "metadata": {},
   "outputs": [],
   "source": [
    "#B = real_stock_price.tolist()\n"
   ]
  },
  {
   "cell_type": "code",
   "execution_count": 67,
   "metadata": {},
   "outputs": [
    {
     "data": {
      "image/png": "[encoded data removed]",
      "text/plain": [
       "<Figure size 432x288 with 1 Axes>"
      ]
     },
     "metadata": {
      "needs_background": "light"
     },
     "output_type": "display_data"
    }
   ],
   "source": [
    "\n",
    "# Visualising the results\n",
    "\n",
    "plt.plot(real_stock_price, color = 'red', label = 'Real SunPharma Stock Price')\n",
    "plt.plot(predicted_stock_price, color = 'blue', label = 'Predicted SunPharma Stock Price')\n",
    "\n",
    "plt.grid()\n",
    "plt.title('SunPharma Stock Price Prediction')\n",
    "plt.xlabel('Time')\n",
    "plt.ylabel('SunPharmaStock Price')\n",
    "plt.legend()\n",
    "\n",
    "plt.show()\n"
   ]
  },
  {
   "cell_type": "code",
   "execution_count": null,
   "metadata": {},
   "outputs": [],
   "source": []
  }
 ],
 "metadata": {
  "kernelspec": {
   "display_name": "Python 3",
   "language": "python",
   "name": "python3"
  },
  "language_info": {
   "codemirror_mode": {
    "name": "ipython",
    "version": 3
   },
   "file_extension": ".py",
   "mimetype": "text/x-python",
   "name": "python",
   "nbconvert_exporter": "python",
   "pygments_lexer": "ipython3",
   "version": "3.8.5"
  }
 },
 "nbformat": 4,
 "nbformat_minor": 2
}
